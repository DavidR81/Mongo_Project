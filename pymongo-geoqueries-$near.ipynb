{
 "cells": [
  {
   "cell_type": "markdown",
   "metadata": {},
   "source": [
    "#### Importación base de datos https://github.com/albertogcmr/pymongo-project\n",
    "Este repositorio de Alberto explica cómo"
   ]
  },
  {
   "cell_type": "markdown",
   "metadata": {},
   "source": [
    "## Proyecto MongoDB"
   ]
  },
  {
   "cell_type": "markdown",
   "metadata": {},
   "source": [
    "* Importar base de datos a MongoDB\n",
    "* Conexión a la base de datos con Pymongo\n",
    "* Extraccion de la base de datos con Pymongo, filtrando según intereses\n",
    "* Limpieza de datos con Pandas\n",
    "* Columna formato geopoint \n",
    "* Guardar como Json\n",
    "* Importar la base de datos a MongoDB\n",
    "* Crear geoindex \n",
    "* Conexión a la nueva base de datos con Pymongo, extracción de todo.\n",
    "* Consultas geoespaciales sobre tu dataframe usando $near"
   ]
  },
  {
   "cell_type": "code",
   "execution_count": 1,
   "metadata": {},
   "outputs": [],
   "source": [
    "from pymongo import MongoClient\n",
    "import pandas as pd"
   ]
  },
  {
   "cell_type": "code",
   "execution_count": 2,
   "metadata": {},
   "outputs": [],
   "source": [
    "# conexión con la base de datos de mongo\n",
    "\n",
    "client = MongoClient(\"mongodb://localhost:27017/\")\n",
    "db = client.companies "
   ]
  },
  {
   "cell_type": "code",
   "execution_count": 3,
   "metadata": {},
   "outputs": [],
   "source": [
    "# Query para pedir todo\n",
    "companies = db.companies.find()"
   ]
  },
  {
   "cell_type": "code",
   "execution_count": 4,
   "metadata": {},
   "outputs": [],
   "source": [
    "data_companies = pd.DataFrame(companies)"
   ]
  },
  {
   "cell_type": "code",
   "execution_count": 5,
   "metadata": {},
   "outputs": [
    {
     "data": {
      "text/html": [
       "<div>\n",
       "<style scoped>\n",
       "    .dataframe tbody tr th:only-of-type {\n",
       "        vertical-align: middle;\n",
       "    }\n",
       "\n",
       "    .dataframe tbody tr th {\n",
       "        vertical-align: top;\n",
       "    }\n",
       "\n",
       "    .dataframe thead th {\n",
       "        text-align: right;\n",
       "    }\n",
       "</style>\n",
       "<table border=\"1\" class=\"dataframe\">\n",
       "  <thead>\n",
       "    <tr style=\"text-align: right;\">\n",
       "      <th></th>\n",
       "      <th>_id</th>\n",
       "      <th>name</th>\n",
       "      <th>permalink</th>\n",
       "      <th>crunchbase_url</th>\n",
       "      <th>homepage_url</th>\n",
       "      <th>blog_url</th>\n",
       "      <th>blog_feed_url</th>\n",
       "      <th>twitter_username</th>\n",
       "      <th>category_code</th>\n",
       "      <th>number_of_employees</th>\n",
       "      <th>...</th>\n",
       "      <th>video_embeds</th>\n",
       "      <th>screenshots</th>\n",
       "      <th>external_links</th>\n",
       "      <th>partners</th>\n",
       "      <th>founded_month</th>\n",
       "      <th>founded_day</th>\n",
       "      <th>deadpooled_month</th>\n",
       "      <th>deadpooled_day</th>\n",
       "      <th>deadpooled_url</th>\n",
       "      <th>ipo</th>\n",
       "    </tr>\n",
       "  </thead>\n",
       "  <tbody>\n",
       "    <tr>\n",
       "      <th>0</th>\n",
       "      <td>52cdef7c4bab8bd675297d8b</td>\n",
       "      <td>AdventNet</td>\n",
       "      <td>abc3</td>\n",
       "      <td>http://www.crunchbase.com/company/adventnet</td>\n",
       "      <td>http://adventnet.com</td>\n",
       "      <td></td>\n",
       "      <td></td>\n",
       "      <td>manageengine</td>\n",
       "      <td>enterprise</td>\n",
       "      <td>600.0</td>\n",
       "      <td>...</td>\n",
       "      <td>[]</td>\n",
       "      <td>[{'available_sizes': [[[150, 94], 'assets/imag...</td>\n",
       "      <td>[]</td>\n",
       "      <td>[]</td>\n",
       "      <td>NaN</td>\n",
       "      <td>NaN</td>\n",
       "      <td>NaN</td>\n",
       "      <td>NaN</td>\n",
       "      <td>NaN</td>\n",
       "      <td>NaN</td>\n",
       "    </tr>\n",
       "    <tr>\n",
       "      <th>1</th>\n",
       "      <td>52cdef7c4bab8bd675297d8c</td>\n",
       "      <td>Zoho</td>\n",
       "      <td>abc4</td>\n",
       "      <td>http://www.crunchbase.com/company/zoho</td>\n",
       "      <td>http://zoho.com</td>\n",
       "      <td>http://blogs.zoho.com/</td>\n",
       "      <td>http://blogs.zoho.com/feed</td>\n",
       "      <td>zoho</td>\n",
       "      <td>software</td>\n",
       "      <td>1600.0</td>\n",
       "      <td>...</td>\n",
       "      <td>[{'embed_code': '&lt;object width=\"430\" height=\"2...</td>\n",
       "      <td>[]</td>\n",
       "      <td>[{'external_url': 'http://www.online-tech-tips...</td>\n",
       "      <td>[]</td>\n",
       "      <td>9.0</td>\n",
       "      <td>15.0</td>\n",
       "      <td>NaN</td>\n",
       "      <td>NaN</td>\n",
       "      <td>NaN</td>\n",
       "      <td>NaN</td>\n",
       "    </tr>\n",
       "    <tr>\n",
       "      <th>2</th>\n",
       "      <td>52cdef7c4bab8bd675297d8a</td>\n",
       "      <td>Wetpaint</td>\n",
       "      <td>abc2</td>\n",
       "      <td>http://www.crunchbase.com/company/wetpaint</td>\n",
       "      <td>http://wetpaint-inc.com</td>\n",
       "      <td>http://digitalquarters.net/</td>\n",
       "      <td>http://digitalquarters.net/feed/</td>\n",
       "      <td>BachelrWetpaint</td>\n",
       "      <td>web</td>\n",
       "      <td>47.0</td>\n",
       "      <td>...</td>\n",
       "      <td>[]</td>\n",
       "      <td>[{'available_sizes': [[[150, 86], 'assets/imag...</td>\n",
       "      <td>[{'external_url': 'http://www.geekwire.com/201...</td>\n",
       "      <td>[]</td>\n",
       "      <td>10.0</td>\n",
       "      <td>17.0</td>\n",
       "      <td>NaN</td>\n",
       "      <td>NaN</td>\n",
       "      <td>NaN</td>\n",
       "      <td>NaN</td>\n",
       "    </tr>\n",
       "  </tbody>\n",
       "</table>\n",
       "<p>3 rows × 42 columns</p>\n",
       "</div>"
      ],
      "text/plain": [
       "                        _id       name permalink  \\\n",
       "0  52cdef7c4bab8bd675297d8b  AdventNet      abc3   \n",
       "1  52cdef7c4bab8bd675297d8c       Zoho      abc4   \n",
       "2  52cdef7c4bab8bd675297d8a   Wetpaint      abc2   \n",
       "\n",
       "                                crunchbase_url             homepage_url  \\\n",
       "0  http://www.crunchbase.com/company/adventnet     http://adventnet.com   \n",
       "1       http://www.crunchbase.com/company/zoho          http://zoho.com   \n",
       "2   http://www.crunchbase.com/company/wetpaint  http://wetpaint-inc.com   \n",
       "\n",
       "                      blog_url                     blog_feed_url  \\\n",
       "0                                                                  \n",
       "1       http://blogs.zoho.com/        http://blogs.zoho.com/feed   \n",
       "2  http://digitalquarters.net/  http://digitalquarters.net/feed/   \n",
       "\n",
       "  twitter_username category_code  number_of_employees  ...  \\\n",
       "0     manageengine    enterprise                600.0  ...   \n",
       "1             zoho      software               1600.0  ...   \n",
       "2  BachelrWetpaint           web                 47.0  ...   \n",
       "\n",
       "                                        video_embeds  \\\n",
       "0                                                 []   \n",
       "1  [{'embed_code': '<object width=\"430\" height=\"2...   \n",
       "2                                                 []   \n",
       "\n",
       "                                         screenshots  \\\n",
       "0  [{'available_sizes': [[[150, 94], 'assets/imag...   \n",
       "1                                                 []   \n",
       "2  [{'available_sizes': [[[150, 86], 'assets/imag...   \n",
       "\n",
       "                                      external_links partners founded_month  \\\n",
       "0                                                 []       []           NaN   \n",
       "1  [{'external_url': 'http://www.online-tech-tips...       []           9.0   \n",
       "2  [{'external_url': 'http://www.geekwire.com/201...       []          10.0   \n",
       "\n",
       "  founded_day deadpooled_month deadpooled_day deadpooled_url  ipo  \n",
       "0         NaN              NaN            NaN            NaN  NaN  \n",
       "1        15.0              NaN            NaN            NaN  NaN  \n",
       "2        17.0              NaN            NaN            NaN  NaN  \n",
       "\n",
       "[3 rows x 42 columns]"
      ]
     },
     "execution_count": 5,
     "metadata": {},
     "output_type": "execute_result"
    }
   ],
   "source": [
    "data_companies.head(3)"
   ]
  },
  {
   "cell_type": "code",
   "execution_count": 6,
   "metadata": {},
   "outputs": [],
   "source": [
    "#Ejemplo filtro de datos con PyMongo\n",
    "\n",
    "acquisition = db.companies.find({\n",
    "    \"acquisition.price_amount\":{\n",
    "        \"$gt\":10000000}}, {\n",
    "    \"name\":1,\n",
    "    \"acquisition.price_amount\":1, \"offices\":1})"
   ]
  },
  {
   "cell_type": "code",
   "execution_count": 15,
   "metadata": {},
   "outputs": [],
   "source": [
    "acquisition = pd.DataFrame(acquisition)"
   ]
  },
  {
   "cell_type": "code",
   "execution_count": 8,
   "metadata": {},
   "outputs": [],
   "source": [
    "#creamos columna con el formato que te pide Mongo para crear el goeindex\n",
    "\n",
    "def geopoint(x): \n",
    "    return {\"type\": \"Point\", \"coordinates\": [20,20]}"
   ]
  },
  {
   "cell_type": "code",
   "execution_count": 9,
   "metadata": {},
   "outputs": [],
   "source": [
    "acquisition['geo']=acquisition['offices'].apply(geopoint)"
   ]
  },
  {
   "cell_type": "code",
   "execution_count": 10,
   "metadata": {},
   "outputs": [
    {
     "data": {
      "text/html": [
       "<div>\n",
       "<style scoped>\n",
       "    .dataframe tbody tr th:only-of-type {\n",
       "        vertical-align: middle;\n",
       "    }\n",
       "\n",
       "    .dataframe tbody tr th {\n",
       "        vertical-align: top;\n",
       "    }\n",
       "\n",
       "    .dataframe thead th {\n",
       "        text-align: right;\n",
       "    }\n",
       "</style>\n",
       "<table border=\"1\" class=\"dataframe\">\n",
       "  <thead>\n",
       "    <tr style=\"text-align: right;\">\n",
       "      <th></th>\n",
       "      <th>_id</th>\n",
       "      <th>name</th>\n",
       "      <th>acquisition</th>\n",
       "      <th>offices</th>\n",
       "      <th>geo</th>\n",
       "    </tr>\n",
       "  </thead>\n",
       "  <tbody>\n",
       "    <tr>\n",
       "      <th>0</th>\n",
       "      <td>52cdef7c4bab8bd675297d8a</td>\n",
       "      <td>Wetpaint</td>\n",
       "      <td>{'price_amount': 30000000}</td>\n",
       "      <td>[{'description': '', 'address1': '710 - 2nd Av...</td>\n",
       "      <td>{'type': 'Point', 'coordinates': [20, 20]}</td>\n",
       "    </tr>\n",
       "    <tr>\n",
       "      <th>1</th>\n",
       "      <td>52cdef7c4bab8bd675297d92</td>\n",
       "      <td>Flektor</td>\n",
       "      <td>{'price_amount': 20000000}</td>\n",
       "      <td>[{'description': None, 'address1': '8536 Natio...</td>\n",
       "      <td>{'type': 'Point', 'coordinates': [20, 20]}</td>\n",
       "    </tr>\n",
       "    <tr>\n",
       "      <th>2</th>\n",
       "      <td>52cdef7c4bab8bd675297d90</td>\n",
       "      <td>Postini</td>\n",
       "      <td>{'price_amount': 625000000}</td>\n",
       "      <td>[{'description': None, 'address1': '959 Skyway...</td>\n",
       "      <td>{'type': 'Point', 'coordinates': [20, 20]}</td>\n",
       "    </tr>\n",
       "    <tr>\n",
       "      <th>3</th>\n",
       "      <td>52cdef7c4bab8bd675297d9a</td>\n",
       "      <td>Helio</td>\n",
       "      <td>{'price_amount': 39000000}</td>\n",
       "      <td>[{'description': None, 'address1': '10960 Wils...</td>\n",
       "      <td>{'type': 'Point', 'coordinates': [20, 20]}</td>\n",
       "    </tr>\n",
       "    <tr>\n",
       "      <th>4</th>\n",
       "      <td>52cdef7c4bab8bd675297d99</td>\n",
       "      <td>Lala</td>\n",
       "      <td>{'price_amount': 80000000}</td>\n",
       "      <td>[{'description': 'Lala Headquarters', 'address...</td>\n",
       "      <td>{'type': 'Point', 'coordinates': [20, 20]}</td>\n",
       "    </tr>\n",
       "  </tbody>\n",
       "</table>\n",
       "</div>"
      ],
      "text/plain": [
       "                        _id      name                  acquisition  \\\n",
       "0  52cdef7c4bab8bd675297d8a  Wetpaint   {'price_amount': 30000000}   \n",
       "1  52cdef7c4bab8bd675297d92   Flektor   {'price_amount': 20000000}   \n",
       "2  52cdef7c4bab8bd675297d90   Postini  {'price_amount': 625000000}   \n",
       "3  52cdef7c4bab8bd675297d9a     Helio   {'price_amount': 39000000}   \n",
       "4  52cdef7c4bab8bd675297d99      Lala   {'price_amount': 80000000}   \n",
       "\n",
       "                                             offices  \\\n",
       "0  [{'description': '', 'address1': '710 - 2nd Av...   \n",
       "1  [{'description': None, 'address1': '8536 Natio...   \n",
       "2  [{'description': None, 'address1': '959 Skyway...   \n",
       "3  [{'description': None, 'address1': '10960 Wils...   \n",
       "4  [{'description': 'Lala Headquarters', 'address...   \n",
       "\n",
       "                                          geo  \n",
       "0  {'type': 'Point', 'coordinates': [20, 20]}  \n",
       "1  {'type': 'Point', 'coordinates': [20, 20]}  \n",
       "2  {'type': 'Point', 'coordinates': [20, 20]}  \n",
       "3  {'type': 'Point', 'coordinates': [20, 20]}  \n",
       "4  {'type': 'Point', 'coordinates': [20, 20]}  "
      ]
     },
     "execution_count": 10,
     "metadata": {},
     "output_type": "execute_result"
    }
   ],
   "source": [
    "acquisition.head()"
   ]
  },
  {
   "cell_type": "code",
   "execution_count": 11,
   "metadata": {},
   "outputs": [],
   "source": [
    "#Importar archivo json a Mongo\n",
    "\n",
    "# mongoimport --db companies --collection prueba --jsonArray oficinas.json"
   ]
  },
  {
   "cell_type": "code",
   "execution_count": 12,
   "metadata": {},
   "outputs": [],
   "source": [
    "#Volvemos a conectarnos a la base de datos\n",
    "\n",
    "db = client.companies"
   ]
  },
  {
   "cell_type": "code",
   "execution_count": 13,
   "metadata": {},
   "outputs": [],
   "source": [
    "# Cogemos todos los datos\n",
    "\n",
    "near = db.prueba.find()\n",
    "df = pd.DataFrame(near)"
   ]
  },
  {
   "cell_type": "code",
   "execution_count": 14,
   "metadata": {},
   "outputs": [
    {
     "ename": "IndexError",
     "evalue": "single positional indexer is out-of-bounds",
     "output_type": "error",
     "traceback": [
      "\u001b[1;31m---------------------------------------------------------------------------\u001b[0m",
      "\u001b[1;31mIndexError\u001b[0m                                Traceback (most recent call last)",
      "\u001b[1;32m<ipython-input-14-73dd0006aa72>\u001b[0m in \u001b[0;36m<module>\u001b[1;34m\u001b[0m\n\u001b[0;32m      1\u001b[0m \u001b[1;31m#Seleccionamos un geopoint\u001b[0m\u001b[1;33m\u001b[0m\u001b[1;33m\u001b[0m\u001b[1;33m\u001b[0m\u001b[0m\n\u001b[1;32m----> 2\u001b[1;33m \u001b[0mtest\u001b[0m \u001b[1;33m=\u001b[0m \u001b[0mdf\u001b[0m\u001b[1;33m.\u001b[0m\u001b[0miloc\u001b[0m\u001b[1;33m[\u001b[0m\u001b[1;36m0\u001b[0m\u001b[1;33m,\u001b[0m \u001b[1;33m]\u001b[0m\u001b[1;33m\u001b[0m\u001b[1;33m\u001b[0m\u001b[0m\n\u001b[0m\u001b[0;32m      3\u001b[0m \u001b[0mtest\u001b[0m\u001b[1;33m.\u001b[0m\u001b[0mprincipal_office\u001b[0m\u001b[1;33m\u001b[0m\u001b[1;33m\u001b[0m\u001b[0m\n",
      "\u001b[1;32mc:\\users\\david\\appdata\\local\\programs\\python\\python37-32\\lib\\site-packages\\pandas\\core\\indexing.py\u001b[0m in \u001b[0;36m__getitem__\u001b[1;34m(self, key)\u001b[0m\n\u001b[0;32m   1402\u001b[0m                 \u001b[1;32mexcept\u001b[0m \u001b[1;33m(\u001b[0m\u001b[0mKeyError\u001b[0m\u001b[1;33m,\u001b[0m \u001b[0mIndexError\u001b[0m\u001b[1;33m,\u001b[0m \u001b[0mAttributeError\u001b[0m\u001b[1;33m)\u001b[0m\u001b[1;33m:\u001b[0m\u001b[1;33m\u001b[0m\u001b[1;33m\u001b[0m\u001b[0m\n\u001b[0;32m   1403\u001b[0m                     \u001b[1;32mpass\u001b[0m\u001b[1;33m\u001b[0m\u001b[1;33m\u001b[0m\u001b[0m\n\u001b[1;32m-> 1404\u001b[1;33m             \u001b[1;32mreturn\u001b[0m \u001b[0mself\u001b[0m\u001b[1;33m.\u001b[0m\u001b[0m_getitem_tuple\u001b[0m\u001b[1;33m(\u001b[0m\u001b[0mkey\u001b[0m\u001b[1;33m)\u001b[0m\u001b[1;33m\u001b[0m\u001b[1;33m\u001b[0m\u001b[0m\n\u001b[0m\u001b[0;32m   1405\u001b[0m         \u001b[1;32melse\u001b[0m\u001b[1;33m:\u001b[0m\u001b[1;33m\u001b[0m\u001b[1;33m\u001b[0m\u001b[0m\n\u001b[0;32m   1406\u001b[0m             \u001b[1;31m# we by definition only have the 0th axis\u001b[0m\u001b[1;33m\u001b[0m\u001b[1;33m\u001b[0m\u001b[1;33m\u001b[0m\u001b[0m\n",
      "\u001b[1;32mc:\\users\\david\\appdata\\local\\programs\\python\\python37-32\\lib\\site-packages\\pandas\\core\\indexing.py\u001b[0m in \u001b[0;36m_getitem_tuple\u001b[1;34m(self, tup)\u001b[0m\n\u001b[0;32m   2065\u001b[0m     \u001b[1;32mdef\u001b[0m \u001b[0m_getitem_tuple\u001b[0m\u001b[1;33m(\u001b[0m\u001b[0mself\u001b[0m\u001b[1;33m,\u001b[0m \u001b[0mtup\u001b[0m\u001b[1;33m)\u001b[0m\u001b[1;33m:\u001b[0m\u001b[1;33m\u001b[0m\u001b[1;33m\u001b[0m\u001b[0m\n\u001b[0;32m   2066\u001b[0m \u001b[1;33m\u001b[0m\u001b[0m\n\u001b[1;32m-> 2067\u001b[1;33m         \u001b[0mself\u001b[0m\u001b[1;33m.\u001b[0m\u001b[0m_has_valid_tuple\u001b[0m\u001b[1;33m(\u001b[0m\u001b[0mtup\u001b[0m\u001b[1;33m)\u001b[0m\u001b[1;33m\u001b[0m\u001b[1;33m\u001b[0m\u001b[0m\n\u001b[0m\u001b[0;32m   2068\u001b[0m         \u001b[1;32mtry\u001b[0m\u001b[1;33m:\u001b[0m\u001b[1;33m\u001b[0m\u001b[1;33m\u001b[0m\u001b[0m\n\u001b[0;32m   2069\u001b[0m             \u001b[1;32mreturn\u001b[0m \u001b[0mself\u001b[0m\u001b[1;33m.\u001b[0m\u001b[0m_getitem_lowerdim\u001b[0m\u001b[1;33m(\u001b[0m\u001b[0mtup\u001b[0m\u001b[1;33m)\u001b[0m\u001b[1;33m\u001b[0m\u001b[1;33m\u001b[0m\u001b[0m\n",
      "\u001b[1;32mc:\\users\\david\\appdata\\local\\programs\\python\\python37-32\\lib\\site-packages\\pandas\\core\\indexing.py\u001b[0m in \u001b[0;36m_has_valid_tuple\u001b[1;34m(self, key)\u001b[0m\n\u001b[0;32m    230\u001b[0m                 \u001b[1;32mraise\u001b[0m \u001b[0mIndexingError\u001b[0m\u001b[1;33m(\u001b[0m\u001b[1;34m\"Too many indexers\"\u001b[0m\u001b[1;33m)\u001b[0m\u001b[1;33m\u001b[0m\u001b[1;33m\u001b[0m\u001b[0m\n\u001b[0;32m    231\u001b[0m             \u001b[1;32mtry\u001b[0m\u001b[1;33m:\u001b[0m\u001b[1;33m\u001b[0m\u001b[1;33m\u001b[0m\u001b[0m\n\u001b[1;32m--> 232\u001b[1;33m                 \u001b[0mself\u001b[0m\u001b[1;33m.\u001b[0m\u001b[0m_validate_key\u001b[0m\u001b[1;33m(\u001b[0m\u001b[0mk\u001b[0m\u001b[1;33m,\u001b[0m \u001b[0mi\u001b[0m\u001b[1;33m)\u001b[0m\u001b[1;33m\u001b[0m\u001b[1;33m\u001b[0m\u001b[0m\n\u001b[0m\u001b[0;32m    233\u001b[0m             \u001b[1;32mexcept\u001b[0m \u001b[0mValueError\u001b[0m\u001b[1;33m:\u001b[0m\u001b[1;33m\u001b[0m\u001b[1;33m\u001b[0m\u001b[0m\n\u001b[0;32m    234\u001b[0m                 raise ValueError(\n",
      "\u001b[1;32mc:\\users\\david\\appdata\\local\\programs\\python\\python37-32\\lib\\site-packages\\pandas\\core\\indexing.py\u001b[0m in \u001b[0;36m_validate_key\u001b[1;34m(self, key, axis)\u001b[0m\n\u001b[0;32m   1987\u001b[0m             \u001b[1;32mreturn\u001b[0m\u001b[1;33m\u001b[0m\u001b[1;33m\u001b[0m\u001b[0m\n\u001b[0;32m   1988\u001b[0m         \u001b[1;32melif\u001b[0m \u001b[0mis_integer\u001b[0m\u001b[1;33m(\u001b[0m\u001b[0mkey\u001b[0m\u001b[1;33m)\u001b[0m\u001b[1;33m:\u001b[0m\u001b[1;33m\u001b[0m\u001b[1;33m\u001b[0m\u001b[0m\n\u001b[1;32m-> 1989\u001b[1;33m             \u001b[0mself\u001b[0m\u001b[1;33m.\u001b[0m\u001b[0m_validate_integer\u001b[0m\u001b[1;33m(\u001b[0m\u001b[0mkey\u001b[0m\u001b[1;33m,\u001b[0m \u001b[0maxis\u001b[0m\u001b[1;33m)\u001b[0m\u001b[1;33m\u001b[0m\u001b[1;33m\u001b[0m\u001b[0m\n\u001b[0m\u001b[0;32m   1990\u001b[0m         \u001b[1;32melif\u001b[0m \u001b[0misinstance\u001b[0m\u001b[1;33m(\u001b[0m\u001b[0mkey\u001b[0m\u001b[1;33m,\u001b[0m \u001b[0mtuple\u001b[0m\u001b[1;33m)\u001b[0m\u001b[1;33m:\u001b[0m\u001b[1;33m\u001b[0m\u001b[1;33m\u001b[0m\u001b[0m\n\u001b[0;32m   1991\u001b[0m             \u001b[1;31m# a tuple should already have been caught by this point\u001b[0m\u001b[1;33m\u001b[0m\u001b[1;33m\u001b[0m\u001b[1;33m\u001b[0m\u001b[0m\n",
      "\u001b[1;32mc:\\users\\david\\appdata\\local\\programs\\python\\python37-32\\lib\\site-packages\\pandas\\core\\indexing.py\u001b[0m in \u001b[0;36m_validate_integer\u001b[1;34m(self, key, axis)\u001b[0m\n\u001b[0;32m   2061\u001b[0m         \u001b[0mlen_axis\u001b[0m \u001b[1;33m=\u001b[0m \u001b[0mlen\u001b[0m\u001b[1;33m(\u001b[0m\u001b[0mself\u001b[0m\u001b[1;33m.\u001b[0m\u001b[0mobj\u001b[0m\u001b[1;33m.\u001b[0m\u001b[0m_get_axis\u001b[0m\u001b[1;33m(\u001b[0m\u001b[0maxis\u001b[0m\u001b[1;33m)\u001b[0m\u001b[1;33m)\u001b[0m\u001b[1;33m\u001b[0m\u001b[1;33m\u001b[0m\u001b[0m\n\u001b[0;32m   2062\u001b[0m         \u001b[1;32mif\u001b[0m \u001b[0mkey\u001b[0m \u001b[1;33m>=\u001b[0m \u001b[0mlen_axis\u001b[0m \u001b[1;32mor\u001b[0m \u001b[0mkey\u001b[0m \u001b[1;33m<\u001b[0m \u001b[1;33m-\u001b[0m\u001b[0mlen_axis\u001b[0m\u001b[1;33m:\u001b[0m\u001b[1;33m\u001b[0m\u001b[1;33m\u001b[0m\u001b[0m\n\u001b[1;32m-> 2063\u001b[1;33m             \u001b[1;32mraise\u001b[0m \u001b[0mIndexError\u001b[0m\u001b[1;33m(\u001b[0m\u001b[1;34m\"single positional indexer is out-of-bounds\"\u001b[0m\u001b[1;33m)\u001b[0m\u001b[1;33m\u001b[0m\u001b[1;33m\u001b[0m\u001b[0m\n\u001b[0m\u001b[0;32m   2064\u001b[0m \u001b[1;33m\u001b[0m\u001b[0m\n\u001b[0;32m   2065\u001b[0m     \u001b[1;32mdef\u001b[0m \u001b[0m_getitem_tuple\u001b[0m\u001b[1;33m(\u001b[0m\u001b[0mself\u001b[0m\u001b[1;33m,\u001b[0m \u001b[0mtup\u001b[0m\u001b[1;33m)\u001b[0m\u001b[1;33m:\u001b[0m\u001b[1;33m\u001b[0m\u001b[1;33m\u001b[0m\u001b[0m\n",
      "\u001b[1;31mIndexError\u001b[0m: single positional indexer is out-of-bounds"
     ]
    }
   ],
   "source": [
    "#Seleccionamos un geopoint \n",
    "test = df.iloc[0, ]\n",
    "test.principal_office"
   ]
  },
  {
   "cell_type": "markdown",
   "metadata": {},
   "source": [
    "### Operador $near"
   ]
  },
  {
   "cell_type": "code",
   "execution_count": null,
   "metadata": {},
   "outputs": [],
   "source": [
    "#Función para encontrar puntos cercanos con $near\n",
    "\n",
    "def geonear(geopoint, maxdistance=1000):\n",
    "    return db.prueba.find({\n",
    "        \"principal_office\":{\n",
    "            \"$near\":{\n",
    "                \"$geometry\":geopoint,\n",
    "                \"$maxDistance\":maxdistance\n",
    "            }}})"
   ]
  },
  {
   "cell_type": "code",
   "execution_count": 17,
   "metadata": {},
   "outputs": [
    {
     "ename": "NameError",
     "evalue": "name 'geonear' is not defined",
     "output_type": "error",
     "traceback": [
      "\u001b[1;31m---------------------------------------------------------------------------\u001b[0m",
      "\u001b[1;31mNameError\u001b[0m                                 Traceback (most recent call last)",
      "\u001b[1;32m<ipython-input-17-4039edb5fe13>\u001b[0m in \u001b[0;36m<module>\u001b[1;34m\u001b[0m\n\u001b[1;32m----> 1\u001b[1;33m \u001b[0mgeonear\u001b[0m\u001b[1;33m(\u001b[0m\u001b[0mtest\u001b[0m\u001b[1;33m.\u001b[0m\u001b[0mprincipal_office\u001b[0m\u001b[1;33m,\u001b[0m \u001b[1;36m100000\u001b[0m\u001b[1;33m)\u001b[0m\u001b[1;33m.\u001b[0m\u001b[0mcount\u001b[0m\u001b[1;33m(\u001b[0m\u001b[1;33m)\u001b[0m\u001b[1;33m\u001b[0m\u001b[1;33m\u001b[0m\u001b[0m\n\u001b[0m",
      "\u001b[1;31mNameError\u001b[0m: name 'geonear' is not defined"
     ]
    }
   ],
   "source": [
    "geonear(test.principal_office, 100000).count()"
   ]
  },
  {
   "cell_type": "code",
   "execution_count": null,
   "metadata": {},
   "outputs": [],
   "source": []
  }
 ],
 "metadata": {
  "kernelspec": {
   "display_name": "Python 3",
   "language": "python",
   "name": "python3"
  },
  "language_info": {
   "codemirror_mode": {
    "name": "ipython",
    "version": 3
   },
   "file_extension": ".py",
   "mimetype": "text/x-python",
   "name": "python",
   "nbconvert_exporter": "python",
   "pygments_lexer": "ipython3",
   "version": "3.7.4"
  }
 },
 "nbformat": 4,
 "nbformat_minor": 2
}
