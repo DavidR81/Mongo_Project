{
 "cells": [
  {
   "cell_type": "code",
   "execution_count": 2,
   "metadata": {},
   "outputs": [],
   "source": [
    "import pandas as pd\n",
    "from pymongo import MongoClient\n",
    "import re\n",
    "import numpy as np"
   ]
  },
  {
   "cell_type": "code",
   "execution_count": 3,
   "metadata": {},
   "outputs": [],
   "source": [
    "client = MongoClient(\"mongodb://localhost:27017/\")"
   ]
  },
  {
   "cell_type": "code",
   "execution_count": 4,
   "metadata": {},
   "outputs": [],
   "source": [
    "db = client.companies"
   ]
  },
  {
   "cell_type": "code",
   "execution_count": 5,
   "metadata": {},
   "outputs": [],
   "source": [
    "colletion_companies = db.prueba"
   ]
  },
  {
   "cell_type": "code",
   "execution_count": 6,
   "metadata": {},
   "outputs": [],
   "source": [
    "query = colletion_companies.find()"
   ]
  },
  {
   "cell_type": "code",
   "execution_count": 7,
   "metadata": {},
   "outputs": [],
   "source": [
    "data = pd.DataFrame(query)"
   ]
  },
  {
   "cell_type": "code",
   "execution_count": 8,
   "metadata": {},
   "outputs": [
    {
     "data": {
      "text/html": [
       "<div>\n",
       "<style scoped>\n",
       "    .dataframe tbody tr th:only-of-type {\n",
       "        vertical-align: middle;\n",
       "    }\n",
       "\n",
       "    .dataframe tbody tr th {\n",
       "        vertical-align: top;\n",
       "    }\n",
       "\n",
       "    .dataframe thead th {\n",
       "        text-align: right;\n",
       "    }\n",
       "</style>\n",
       "<table border=\"1\" class=\"dataframe\">\n",
       "  <thead>\n",
       "    <tr style=\"text-align: right;\">\n",
       "      <th></th>\n",
       "      <th>_id</th>\n",
       "      <th>name</th>\n",
       "      <th>category_code</th>\n",
       "      <th>number_of_employees</th>\n",
       "      <th>founded_year</th>\n",
       "      <th>description</th>\n",
       "      <th>total_money_raised</th>\n",
       "      <th>offices</th>\n",
       "      <th>longitud</th>\n",
       "      <th>latitude</th>\n",
       "      <th>position</th>\n",
       "    </tr>\n",
       "  </thead>\n",
       "  <tbody>\n",
       "    <tr>\n",
       "      <th>0</th>\n",
       "      <td>5d8267a480ff16a56b015378</td>\n",
       "      <td>Zango</td>\n",
       "      <td>games_video</td>\n",
       "      <td>225</td>\n",
       "      <td>1999</td>\n",
       "      <td></td>\n",
       "      <td>$40M</td>\n",
       "      <td>[{'description': None, 'address1': '3600 136th...</td>\n",
       "      <td>-122.155668</td>\n",
       "      <td>47.579208</td>\n",
       "      <td>{'type': 'Point', 'coordinates': [-122.155668,...</td>\n",
       "    </tr>\n",
       "    <tr>\n",
       "      <th>1</th>\n",
       "      <td>5d8267a480ff16a56b015379</td>\n",
       "      <td>Realtime Worlds</td>\n",
       "      <td>games_video</td>\n",
       "      <td>225</td>\n",
       "      <td>2002</td>\n",
       "      <td>Entertainment software, Videogames</td>\n",
       "      <td>$82.8M</td>\n",
       "      <td>[{'description': None, 'address1': '', 'addres...</td>\n",
       "      <td>-2.968111</td>\n",
       "      <td>56.461428</td>\n",
       "      <td>{'type': 'Point', 'coordinates': [-2.968111, 5...</td>\n",
       "    </tr>\n",
       "    <tr>\n",
       "      <th>2</th>\n",
       "      <td>5d8267a480ff16a56b01537a</td>\n",
       "      <td>Ustream</td>\n",
       "      <td>games_video</td>\n",
       "      <td>250</td>\n",
       "      <td>2007</td>\n",
       "      <td>Live Social Video Community</td>\n",
       "      <td>$60.1M</td>\n",
       "      <td>[{'description': 'San Francisco Office', 'addr...</td>\n",
       "      <td>-122.079480</td>\n",
       "      <td>37.392936</td>\n",
       "      <td>{'type': 'Point', 'coordinates': [-122.07948, ...</td>\n",
       "    </tr>\n",
       "    <tr>\n",
       "      <th>3</th>\n",
       "      <td>5d8267a480ff16a56b01537b</td>\n",
       "      <td>Modern Feed</td>\n",
       "      <td>games_video</td>\n",
       "      <td>123</td>\n",
       "      <td>2007</td>\n",
       "      <td>None</td>\n",
       "      <td>$3M</td>\n",
       "      <td>[{'description': None, 'address1': '818 N. La ...</td>\n",
       "      <td>-118.343791</td>\n",
       "      <td>34.085749</td>\n",
       "      <td>{'type': 'Point', 'coordinates': [-118.343791,...</td>\n",
       "    </tr>\n",
       "    <tr>\n",
       "      <th>4</th>\n",
       "      <td>5d8267a480ff16a56b01537c</td>\n",
       "      <td>Kabam</td>\n",
       "      <td>games_video</td>\n",
       "      <td>650</td>\n",
       "      <td>2006</td>\n",
       "      <td>Leader in Gaming</td>\n",
       "      <td>$125M</td>\n",
       "      <td>[{'description': 'HQ', 'address1': '795 Folsom...</td>\n",
       "      <td>-122.078531</td>\n",
       "      <td>37.394456</td>\n",
       "      <td>{'type': 'Point', 'coordinates': [-122.0785314...</td>\n",
       "    </tr>\n",
       "  </tbody>\n",
       "</table>\n",
       "</div>"
      ],
      "text/plain": [
       "                        _id             name category_code  \\\n",
       "0  5d8267a480ff16a56b015378            Zango   games_video   \n",
       "1  5d8267a480ff16a56b015379  Realtime Worlds   games_video   \n",
       "2  5d8267a480ff16a56b01537a          Ustream   games_video   \n",
       "3  5d8267a480ff16a56b01537b      Modern Feed   games_video   \n",
       "4  5d8267a480ff16a56b01537c            Kabam   games_video   \n",
       "\n",
       "   number_of_employees  founded_year                         description  \\\n",
       "0                  225          1999                                       \n",
       "1                  225          2002  Entertainment software, Videogames   \n",
       "2                  250          2007         Live Social Video Community   \n",
       "3                  123          2007                                None   \n",
       "4                  650          2006                    Leader in Gaming   \n",
       "\n",
       "  total_money_raised                                            offices  \\\n",
       "0               $40M  [{'description': None, 'address1': '3600 136th...   \n",
       "1             $82.8M  [{'description': None, 'address1': '', 'addres...   \n",
       "2             $60.1M  [{'description': 'San Francisco Office', 'addr...   \n",
       "3                $3M  [{'description': None, 'address1': '818 N. La ...   \n",
       "4              $125M  [{'description': 'HQ', 'address1': '795 Folsom...   \n",
       "\n",
       "     longitud   latitude                                           position  \n",
       "0 -122.155668  47.579208  {'type': 'Point', 'coordinates': [-122.155668,...  \n",
       "1   -2.968111  56.461428  {'type': 'Point', 'coordinates': [-2.968111, 5...  \n",
       "2 -122.079480  37.392936  {'type': 'Point', 'coordinates': [-122.07948, ...  \n",
       "3 -118.343791  34.085749  {'type': 'Point', 'coordinates': [-118.343791,...  \n",
       "4 -122.078531  37.394456  {'type': 'Point', 'coordinates': [-122.0785314...  "
      ]
     },
     "execution_count": 8,
     "metadata": {},
     "output_type": "execute_result"
    }
   ],
   "source": [
    "data.head()"
   ]
  },
  {
   "cell_type": "code",
   "execution_count": 9,
   "metadata": {},
   "outputs": [
    {
     "data": {
      "text/plain": [
       "(21, 11)"
      ]
     },
     "execution_count": 9,
     "metadata": {},
     "output_type": "execute_result"
    }
   ],
   "source": [
    "data.shape"
   ]
  },
  {
   "cell_type": "code",
   "execution_count": 10,
   "metadata": {},
   "outputs": [],
   "source": [
    "def geonear(geopoint, maxdistance=1000):\n",
    "   return db.prueba.find({\n",
    "       \"position\":{\n",
    "           \"$near\":{\n",
    "               \"$geometry\":geopoint,\n",
    "               \"$maxDistance\":maxdistance\n",
    "           }}})\n"
   ]
  },
  {
   "cell_type": "code",
   "execution_count": 14,
   "metadata": {},
   "outputs": [
    {
     "data": {
      "text/plain": [
       "[{'_id': ObjectId('5d8267a480ff16a56b015378'),\n",
       "  'name': 'Zango',\n",
       "  'category_code': 'games_video',\n",
       "  'number_of_employees': 225,\n",
       "  'founded_year': 1999,\n",
       "  'description': '',\n",
       "  'total_money_raised': '$40M',\n",
       "  'offices': [{'description': None,\n",
       "    'address1': '3600 136th Place SE',\n",
       "    'address2': None,\n",
       "    'zip_code': '98006',\n",
       "    'city': 'Bellevue',\n",
       "    'state_code': 'WA',\n",
       "    'country_code': 'USA',\n",
       "    'latitude': 47.579208,\n",
       "    'longitude': -122.155668}],\n",
       "  'longitud': -122.155668,\n",
       "  'latitude': 47.579208,\n",
       "  'position': {'type': 'Point', 'coordinates': [-122.155668, 47.579208]}},\n",
       " {'_id': ObjectId('5d8267a480ff16a56b01538c'),\n",
       "  'name': 'Z2Live',\n",
       "  'category_code': 'games_video',\n",
       "  'number_of_employees': 130,\n",
       "  'founded_year': 2009,\n",
       "  'description': 'Mobile Games',\n",
       "  'total_money_raised': '$6.5M',\n",
       "  'offices': [{'description': 'Z2Live',\n",
       "    'address1': '1601 2nd Ave',\n",
       "    'address2': 'Suite 800',\n",
       "    'zip_code': '98101',\n",
       "    'city': 'Seattle',\n",
       "    'state_code': 'WA',\n",
       "    'country_code': 'USA',\n",
       "    'latitude': 47.6103008,\n",
       "    'longitude': -122.3399782}],\n",
       "  'longitud': -122.3399782,\n",
       "  'latitude': 47.6103008,\n",
       "  'position': {'type': 'Point', 'coordinates': [-122.3399782, 47.6103008]}}]"
      ]
     },
     "execution_count": 14,
     "metadata": {},
     "output_type": "execute_result"
    }
   ],
   "source": [
    "list(geonear(data['position'][0],25000))"
   ]
  },
  {
   "cell_type": "code",
   "execution_count": null,
   "metadata": {},
   "outputs": [],
   "source": [
    "cercanas = len(list(geonear(data['position'][0],25000), for gearnear))"
   ]
  }
 ],
 "metadata": {
  "kernelspec": {
   "display_name": "Python 3",
   "language": "python",
   "name": "python3"
  },
  "language_info": {
   "codemirror_mode": {
    "name": "ipython",
    "version": 3
   },
   "file_extension": ".py",
   "mimetype": "text/x-python",
   "name": "python",
   "nbconvert_exporter": "python",
   "pygments_lexer": "ipython3",
   "version": "3.7.4"
  }
 },
 "nbformat": 4,
 "nbformat_minor": 2
}
