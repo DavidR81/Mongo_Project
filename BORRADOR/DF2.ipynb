{
 "cells": [
  {
   "cell_type": "code",
   "execution_count": 2,
   "metadata": {},
   "outputs": [],
   "source": [
    "import pandas as pd\n",
    "from pymongo import MongoClient\n",
    "import re\n",
    "import numpy as np"
   ]
  },
  {
   "cell_type": "code",
   "execution_count": 13,
   "metadata": {},
   "outputs": [],
   "source": [
    "client = MongoClient(\"mongodb://localhost:27017/\")"
   ]
  },
  {
   "cell_type": "code",
   "execution_count": 14,
   "metadata": {},
   "outputs": [],
   "source": [
    "db = client.companies"
   ]
  },
  {
   "cell_type": "code",
   "execution_count": 15,
   "metadata": {},
   "outputs": [],
   "source": [
    "colletion_companies = db.prueba"
   ]
  },
  {
   "cell_type": "code",
   "execution_count": 16,
   "metadata": {},
   "outputs": [],
   "source": [
    "query = colletion_companies.find()"
   ]
  },
  {
   "cell_type": "code",
   "execution_count": 17,
   "metadata": {},
   "outputs": [],
   "source": [
    "data = pd.DataFrame(query)"
   ]
  },
  {
   "cell_type": "code",
   "execution_count": 18,
   "metadata": {
    "scrolled": true
   },
   "outputs": [],
   "source": [
    "data.head()"
   ]
  },
  {
   "cell_type": "code",
   "execution_count": 19,
   "metadata": {
    "scrolled": true
   },
   "outputs": [],
   "source": [
    "data.shape"
   ]
  },
  {
   "cell_type": "code",
   "execution_count": 20,
   "metadata": {},
   "outputs": [],
   "source": [
    "def geonear(geopoint, maxdistance=1000):\n",
    "   return db.prueba.find({\n",
    "       \"position\":{\n",
    "           \"$near\":{\n",
    "               \"$geometry\":geopoint,\n",
    "               \"$maxDistance\":maxdistance\n",
    "           }}})\n"
   ]
  },
  {
   "cell_type": "code",
   "execution_count": 21,
   "metadata": {},
   "outputs": [
    {
     "data": {
      "text/plain": [
       "[{'_id': ObjectId('5d8267a480ff16a56b015378'),\n",
       "  'name': 'Zango',\n",
       "  'category_code': 'games_video',\n",
       "  'number_of_employees': 225,\n",
       "  'founded_year': 1999,\n",
       "  'description': '',\n",
       "  'total_money_raised': '$40M',\n",
       "  'offices': [{'description': None,\n",
       "    'address1': '3600 136th Place SE',\n",
       "    'address2': None,\n",
       "    'zip_code': '98006',\n",
       "    'city': 'Bellevue',\n",
       "    'state_code': 'WA',\n",
       "    'country_code': 'USA',\n",
       "    'latitude': 47.579208,\n",
       "    'longitude': -122.155668}],\n",
       "  'longitud': -122.155668,\n",
       "  'latitude': 47.579208,\n",
       "  'position': {'type': 'Point', 'coordinates': [-122.155668, 47.579208]}},\n",
       " {'_id': ObjectId('5d8267a480ff16a56b01538c'),\n",
       "  'name': 'Z2Live',\n",
       "  'category_code': 'games_video',\n",
       "  'number_of_employees': 130,\n",
       "  'founded_year': 2009,\n",
       "  'description': 'Mobile Games',\n",
       "  'total_money_raised': '$6.5M',\n",
       "  'offices': [{'description': 'Z2Live',\n",
       "    'address1': '1601 2nd Ave',\n",
       "    'address2': 'Suite 800',\n",
       "    'zip_code': '98101',\n",
       "    'city': 'Seattle',\n",
       "    'state_code': 'WA',\n",
       "    'country_code': 'USA',\n",
       "    'latitude': 47.6103008,\n",
       "    'longitude': -122.3399782}],\n",
       "  'longitud': -122.3399782,\n",
       "  'latitude': 47.6103008,\n",
       "  'position': {'type': 'Point', 'coordinates': [-122.3399782, 47.6103008]}}]"
      ]
     },
     "execution_count": 21,
     "metadata": {},
     "output_type": "execute_result"
    }
   ],
   "source": [
    "list(geonear(data['position'][0],25000))"
   ]
  },
  {
   "cell_type": "code",
   "execution_count": 23,
   "metadata": {},
   "outputs": [
    {
     "data": {
      "text/plain": [
       "{'type': 'Point', 'coordinates': [-122.155668, 47.579208]}"
      ]
     },
     "execution_count": 23,
     "metadata": {},
     "output_type": "execute_result"
    }
   ],
   "source": [
    "data['position'][0]"
   ]
  },
  {
   "cell_type": "code",
   "execution_count": null,
   "metadata": {},
   "outputs": [],
   "source": [
    "cercanas = len(list(geonear(data['position'][0],25000), for gearnear))"
   ]
  }
 ],
 "metadata": {
  "kernelspec": {
   "display_name": "Python 3",
   "language": "python",
   "name": "python3"
  },
  "language_info": {
   "codemirror_mode": {
    "name": "ipython",
    "version": 3
   },
   "file_extension": ".py",
   "mimetype": "text/x-python",
   "name": "python",
   "nbconvert_exporter": "python",
   "pygments_lexer": "ipython3",
   "version": "3.7.4"
  }
 },
 "nbformat": 4,
 "nbformat_minor": 2
}
